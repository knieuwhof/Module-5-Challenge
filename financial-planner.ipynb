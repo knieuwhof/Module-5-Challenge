{
 "cells": [
  {
   "cell_type": "markdown",
   "metadata": {},
   "source": [
    "# Unit 5 - Financial Planning"
   ]
  },
  {
   "cell_type": "code",
   "execution_count": 1,
   "metadata": {
    "tags": []
   },
   "outputs": [],
   "source": [
    "# Initial imports\n",
    "import os\n",
    "import requests\n",
    "import pandas as pd\n",
    "from dotenv import load_dotenv\n",
    "import alpaca_trade_api as tradeapi\n",
    "from MCForecastTools1 import MCSimulation\n",
    "\n",
    "%matplotlib inline"
   ]
  },
  {
   "cell_type": "code",
   "execution_count": 2,
   "metadata": {
    "tags": []
   },
   "outputs": [
    {
     "data": {
      "text/plain": [
       "True"
      ]
     },
     "execution_count": 2,
     "metadata": {},
     "output_type": "execute_result"
    }
   ],
   "source": [
    "# Load .env enviroment variables\n",
    "load_dotenv()"
   ]
  },
  {
   "cell_type": "markdown",
   "metadata": {},
   "source": [
    "## Part 1 - Personal Finance Planner"
   ]
  },
  {
   "cell_type": "markdown",
   "metadata": {},
   "source": [
    "### Collect Crypto Prices Using the `requests` Library"
   ]
  },
  {
   "cell_type": "code",
   "execution_count": 3,
   "metadata": {},
   "outputs": [],
   "source": [
    "# Set current amount of crypto assets\n",
    "\n",
    "my_btc = 1.2\n",
    "my_eth = 5.3"
   ]
  },
  {
   "cell_type": "code",
   "execution_count": 4,
   "metadata": {
    "tags": []
   },
   "outputs": [],
   "source": [
    "# Crypto API URLs\n",
    "btc_url = \"https://api.alternative.me/v2/ticker/Bitcoin/?convert=CAD\"\n",
    "eth_url = \"https://api.alternative.me/v2/ticker/Ethereum/?convert=CAD\""
   ]
  },
  {
   "cell_type": "code",
   "execution_count": 5,
   "metadata": {},
   "outputs": [
    {
     "data": {
      "text/plain": [
       "{'data': {'1': {'id': 1,\n",
       "   'name': 'Bitcoin',\n",
       "   'symbol': 'BTC',\n",
       "   'website_slug': 'bitcoin',\n",
       "   'rank': 1,\n",
       "   'circulating_supply': 19585893,\n",
       "   'total_supply': 19585893,\n",
       "   'max_supply': 21000000,\n",
       "   'quotes': {'USD': {'price': 42547.0,\n",
       "     'volume_24h': 14752006886,\n",
       "     'market_cap': 834565616035,\n",
       "     'percentage_change_1h': -0.0140985739909435,\n",
       "     'percentage_change_24h': 0.0068086845291535,\n",
       "     'percentage_change_7d': -2.70245711990608,\n",
       "     'percent_change_1h': -0.0140985739909435,\n",
       "     'percent_change_24h': 0.0068086845291535,\n",
       "     'percent_change_7d': -2.70245711990608},\n",
       "    'CAD': {'price': 57800.0995,\n",
       "     'volume_24h': 20040601354.631,\n",
       "     'market_cap': 1133757389383.55,\n",
       "     'percent_change_1h': -0.0140985739909435,\n",
       "     'percent_change_24h': 0.0068086845291535,\n",
       "     'percent_change_7d': -2.70245711990608}},\n",
       "   'last_updated': 1704043633}},\n",
       " 'metadata': {'timestamp': 1704043633,\n",
       "  'num_cryptocurrencies': 3119,\n",
       "  'error': None}}"
      ]
     },
     "execution_count": 5,
     "metadata": {},
     "output_type": "execute_result"
    }
   ],
   "source": [
    "# Fetch current BTC price\n",
    "\n",
    "response_btc = requests.get(btc_url).json()\n",
    "response_btc"
   ]
  },
  {
   "cell_type": "code",
   "execution_count": 6,
   "metadata": {
    "tags": []
   },
   "outputs": [],
   "source": [
    "# btc_price = response_btc.get('price')\n",
    "# btc_price # don't think this is right.. can I just assign the number the variable or do I need code here?\n",
    "\n",
    "current_btc_price = 57575.947"
   ]
  },
  {
   "cell_type": "code",
   "execution_count": 7,
   "metadata": {
    "tags": []
   },
   "outputs": [
    {
     "data": {
      "text/plain": [
       "{'data': {'1027': {'id': 1027,\n",
       "   'name': 'Ethereum',\n",
       "   'symbol': 'ETH',\n",
       "   'website_slug': 'ethereum',\n",
       "   'rank': 2,\n",
       "   'circulating_supply': 120183097,\n",
       "   'total_supply': 120183097,\n",
       "   'max_supply': 120183097,\n",
       "   'quotes': {'USD': {'price': 2301.78,\n",
       "     'volume_24h': 13231162277,\n",
       "     'market_cap': 277106504873,\n",
       "     'percentage_change_1h': -0.0792669892959377,\n",
       "     'percentage_change_24h': -0.552752669109901,\n",
       "     'percentage_change_7d': 0.164407202765908,\n",
       "     'percent_change_1h': -0.0792669892959377,\n",
       "     'percent_change_24h': -0.552752669109901,\n",
       "     'percent_change_7d': 0.164407202765908},\n",
       "    'CAD': {'price': 3126.96813,\n",
       "     'volume_24h': 17974533953.3045,\n",
       "     'market_cap': 376449186869.971,\n",
       "     'percent_change_1h': -0.0792669892959377,\n",
       "     'percent_change_24h': -0.552752669109901,\n",
       "     'percent_change_7d': 0.164407202765908}},\n",
       "   'last_updated': 1704043633}},\n",
       " 'metadata': {'timestamp': 1704043633,\n",
       "  'num_cryptocurrencies': 3119,\n",
       "  'error': None}}"
      ]
     },
     "execution_count": 7,
     "metadata": {},
     "output_type": "execute_result"
    }
   ],
   "source": [
    "# Fetch current ETH price\n",
    "\n",
    "response_eth = requests.get(eth_url).json()\n",
    "response_eth"
   ]
  },
  {
   "cell_type": "code",
   "execution_count": 8,
   "metadata": {
    "tags": []
   },
   "outputs": [],
   "source": [
    " current_eth_price = 3130.106265"
   ]
  },
  {
   "cell_type": "code",
   "execution_count": 9,
   "metadata": {
    "tags": []
   },
   "outputs": [
    {
     "data": {
      "text/plain": [
       "69091.1364"
      ]
     },
     "execution_count": 9,
     "metadata": {},
     "output_type": "execute_result"
    }
   ],
   "source": [
    "# Compute current value of my crypto\n",
    "\n",
    "my_btc_value = my_btc * current_btc_price\n",
    "my_btc_value"
   ]
  },
  {
   "cell_type": "code",
   "execution_count": 10,
   "metadata": {
    "tags": []
   },
   "outputs": [
    {
     "data": {
      "text/plain": [
       "16589.5632045"
      ]
     },
     "execution_count": 10,
     "metadata": {},
     "output_type": "execute_result"
    }
   ],
   "source": [
    "my_eth_value = my_eth * current_eth_price\n",
    "my_eth_value"
   ]
  },
  {
   "cell_type": "code",
   "execution_count": 11,
   "metadata": {
    "tags": []
   },
   "outputs": [
    {
     "data": {
      "text/plain": [
       "85680.6996045"
      ]
     },
     "execution_count": 11,
     "metadata": {},
     "output_type": "execute_result"
    }
   ],
   "source": [
    "total_crypto_wallet = my_btc_value + my_eth_value\n",
    "total_crypto_wallet"
   ]
  },
  {
   "cell_type": "code",
   "execution_count": 12,
   "metadata": {
    "tags": []
   },
   "outputs": [
    {
     "name": "stdout",
     "output_type": "stream",
     "text": [
      "The current value of your 1.2 BTC is $69091.14\n",
      "The current value of your 5.3 ETH is $16589.56\n"
     ]
    }
   ],
   "source": [
    "# Print current crypto wallet balance\n",
    "\n",
    "print(f\"The current value of your {my_btc} BTC is ${my_btc_value:0.2f}\")\n",
    "print(f\"The current value of your {my_eth} ETH is ${my_eth_value:0.2f}\")"
   ]
  },
  {
   "cell_type": "markdown",
   "metadata": {},
   "source": [
    "### Collect Investments Data Using Alpaca: `SPY` (stocks) and `AGG` (bonds)"
   ]
  },
  {
   "cell_type": "code",
   "execution_count": 13,
   "metadata": {},
   "outputs": [],
   "source": [
    "# Set current amount of shares\n",
    "\n",
    "my_agg = 200\n",
    "my_spy = 50"
   ]
  },
  {
   "cell_type": "code",
   "execution_count": 14,
   "metadata": {},
   "outputs": [],
   "source": [
    "# Set Alpaca API key and secret\n",
    "api_key = os.getenv('ALPACA_API_KEY')\n",
    "secret_key = os.getenv('ALPACA_SECRET_KEY')\n",
    "\n",
    "# Create the Alpaca API object\n",
    "# written in the alpaca API documentation\n",
    "\n",
    "alpaca = tradeapi.REST(api_key, secret_key, api_version='v2') # do I use v2 or v2?"
   ]
  },
  {
   "cell_type": "code",
   "execution_count": 15,
   "metadata": {},
   "outputs": [],
   "source": [
    "# Format current date as ISO format\n",
    "today = pd.Timestamp('2023-12-29-',tz='America/New_York').isoformat()\n",
    "\n",
    "# Set the tickers\n",
    "tickers = [\"AGG\", \"SPY\"]\n",
    "\n",
    "# Set timeframe to \"1Day\" for Alpaca API\n",
    "timeframe = \"1Day\""
   ]
  },
  {
   "cell_type": "code",
   "execution_count": 16,
   "metadata": {
    "tags": []
   },
   "outputs": [
    {
     "data": {
      "text/html": [
       "<div>\n",
       "<style scoped>\n",
       "    .dataframe tbody tr th:only-of-type {\n",
       "        vertical-align: middle;\n",
       "    }\n",
       "\n",
       "    .dataframe tbody tr th {\n",
       "        vertical-align: top;\n",
       "    }\n",
       "\n",
       "    .dataframe thead th {\n",
       "        text-align: right;\n",
       "    }\n",
       "</style>\n",
       "<table border=\"1\" class=\"dataframe\">\n",
       "  <thead>\n",
       "    <tr style=\"text-align: right;\">\n",
       "      <th></th>\n",
       "      <th>close</th>\n",
       "      <th>high</th>\n",
       "      <th>low</th>\n",
       "      <th>trade_count</th>\n",
       "      <th>open</th>\n",
       "      <th>volume</th>\n",
       "      <th>vwap</th>\n",
       "      <th>symbol</th>\n",
       "    </tr>\n",
       "    <tr>\n",
       "      <th>timestamp</th>\n",
       "      <th></th>\n",
       "      <th></th>\n",
       "      <th></th>\n",
       "      <th></th>\n",
       "      <th></th>\n",
       "      <th></th>\n",
       "      <th></th>\n",
       "      <th></th>\n",
       "    </tr>\n",
       "  </thead>\n",
       "  <tbody>\n",
       "    <tr>\n",
       "      <th>2023-12-29 05:00:00+00:00</th>\n",
       "      <td>99.25</td>\n",
       "      <td>99.425</td>\n",
       "      <td>99.13</td>\n",
       "      <td>26060</td>\n",
       "      <td>99.20</td>\n",
       "      <td>7327722</td>\n",
       "      <td>99.285422</td>\n",
       "      <td>AGG</td>\n",
       "    </tr>\n",
       "    <tr>\n",
       "      <th>2023-12-29 05:00:00+00:00</th>\n",
       "      <td>475.31</td>\n",
       "      <td>477.030</td>\n",
       "      <td>473.30</td>\n",
       "      <td>604247</td>\n",
       "      <td>476.49</td>\n",
       "      <td>122268009</td>\n",
       "      <td>475.364010</td>\n",
       "      <td>SPY</td>\n",
       "    </tr>\n",
       "  </tbody>\n",
       "</table>\n",
       "</div>"
      ],
      "text/plain": [
       "                            close     high     low  trade_count    open  \\\n",
       "timestamp                                                                 \n",
       "2023-12-29 05:00:00+00:00   99.25   99.425   99.13        26060   99.20   \n",
       "2023-12-29 05:00:00+00:00  475.31  477.030  473.30       604247  476.49   \n",
       "\n",
       "                              volume        vwap symbol  \n",
       "timestamp                                                \n",
       "2023-12-29 05:00:00+00:00    7327722   99.285422    AGG  \n",
       "2023-12-29 05:00:00+00:00  122268009  475.364010    SPY  "
      ]
     },
     "execution_count": 16,
     "metadata": {},
     "output_type": "execute_result"
    }
   ],
   "source": [
    "# Get current closing prices for SPY and AGG\n",
    "\n",
    "df_portfolio = alpaca.get_bars(tickers, timeframe, start = today, end = today).df\n",
    "df_portfolio"
   ]
  },
  {
   "cell_type": "code",
   "execution_count": 17,
   "metadata": {
    "tags": []
   },
   "outputs": [],
   "source": [
    "# Reorganize the DataFrame\n",
    "# Separate ticker data\n",
    "\n",
    "AGG = df_portfolio[df_portfolio['symbol'] == 'AGG']\n",
    "AGG = AGG.drop('symbol',axis=1)\n",
    "\n",
    "SPY = df_portfolio[df_portfolio['symbol'] == 'SPY'].drop('symbol',axis=1)"
   ]
  },
  {
   "cell_type": "code",
   "execution_count": 18,
   "metadata": {
    "tags": []
   },
   "outputs": [
    {
     "data": {
      "text/html": [
       "<div>\n",
       "<style scoped>\n",
       "    .dataframe tbody tr th:only-of-type {\n",
       "        vertical-align: middle;\n",
       "    }\n",
       "\n",
       "    .dataframe tbody tr th {\n",
       "        vertical-align: top;\n",
       "    }\n",
       "\n",
       "    .dataframe thead th {\n",
       "        text-align: right;\n",
       "    }\n",
       "</style>\n",
       "<table border=\"1\" class=\"dataframe\">\n",
       "  <thead>\n",
       "    <tr style=\"text-align: right;\">\n",
       "      <th></th>\n",
       "      <th>close</th>\n",
       "      <th>high</th>\n",
       "      <th>low</th>\n",
       "      <th>trade_count</th>\n",
       "      <th>open</th>\n",
       "      <th>volume</th>\n",
       "      <th>vwap</th>\n",
       "    </tr>\n",
       "    <tr>\n",
       "      <th>timestamp</th>\n",
       "      <th></th>\n",
       "      <th></th>\n",
       "      <th></th>\n",
       "      <th></th>\n",
       "      <th></th>\n",
       "      <th></th>\n",
       "      <th></th>\n",
       "    </tr>\n",
       "  </thead>\n",
       "  <tbody>\n",
       "    <tr>\n",
       "      <th>2023-12-29 05:00:00+00:00</th>\n",
       "      <td>99.25</td>\n",
       "      <td>99.425</td>\n",
       "      <td>99.13</td>\n",
       "      <td>26060</td>\n",
       "      <td>99.2</td>\n",
       "      <td>7327722</td>\n",
       "      <td>99.285422</td>\n",
       "    </tr>\n",
       "  </tbody>\n",
       "</table>\n",
       "</div>"
      ],
      "text/plain": [
       "                           close    high    low  trade_count  open   volume  \\\n",
       "timestamp                                                                     \n",
       "2023-12-29 05:00:00+00:00  99.25  99.425  99.13        26060  99.2  7327722   \n",
       "\n",
       "                                vwap  \n",
       "timestamp                             \n",
       "2023-12-29 05:00:00+00:00  99.285422  "
      ]
     },
     "execution_count": 18,
     "metadata": {},
     "output_type": "execute_result"
    }
   ],
   "source": [
    "AGG"
   ]
  },
  {
   "cell_type": "code",
   "execution_count": 19,
   "metadata": {
    "tags": []
   },
   "outputs": [
    {
     "data": {
      "text/html": [
       "<div>\n",
       "<style scoped>\n",
       "    .dataframe tbody tr th:only-of-type {\n",
       "        vertical-align: middle;\n",
       "    }\n",
       "\n",
       "    .dataframe tbody tr th {\n",
       "        vertical-align: top;\n",
       "    }\n",
       "\n",
       "    .dataframe thead th {\n",
       "        text-align: right;\n",
       "    }\n",
       "</style>\n",
       "<table border=\"1\" class=\"dataframe\">\n",
       "  <thead>\n",
       "    <tr style=\"text-align: right;\">\n",
       "      <th></th>\n",
       "      <th>close</th>\n",
       "      <th>high</th>\n",
       "      <th>low</th>\n",
       "      <th>trade_count</th>\n",
       "      <th>open</th>\n",
       "      <th>volume</th>\n",
       "      <th>vwap</th>\n",
       "    </tr>\n",
       "    <tr>\n",
       "      <th>timestamp</th>\n",
       "      <th></th>\n",
       "      <th></th>\n",
       "      <th></th>\n",
       "      <th></th>\n",
       "      <th></th>\n",
       "      <th></th>\n",
       "      <th></th>\n",
       "    </tr>\n",
       "  </thead>\n",
       "  <tbody>\n",
       "    <tr>\n",
       "      <th>2023-12-29 05:00:00+00:00</th>\n",
       "      <td>475.31</td>\n",
       "      <td>477.03</td>\n",
       "      <td>473.3</td>\n",
       "      <td>604247</td>\n",
       "      <td>476.49</td>\n",
       "      <td>122268009</td>\n",
       "      <td>475.36401</td>\n",
       "    </tr>\n",
       "  </tbody>\n",
       "</table>\n",
       "</div>"
      ],
      "text/plain": [
       "                            close    high    low  trade_count    open  \\\n",
       "timestamp                                                               \n",
       "2023-12-29 05:00:00+00:00  475.31  477.03  473.3       604247  476.49   \n",
       "\n",
       "                              volume       vwap  \n",
       "timestamp                                        \n",
       "2023-12-29 05:00:00+00:00  122268009  475.36401  "
      ]
     },
     "execution_count": 19,
     "metadata": {},
     "output_type": "execute_result"
    }
   ],
   "source": [
    "SPY"
   ]
  },
  {
   "cell_type": "code",
   "execution_count": 20,
   "metadata": {
    "tags": []
   },
   "outputs": [
    {
     "data": {
      "text/html": [
       "<div>\n",
       "<style scoped>\n",
       "    .dataframe tbody tr th:only-of-type {\n",
       "        vertical-align: middle;\n",
       "    }\n",
       "\n",
       "    .dataframe tbody tr th {\n",
       "        vertical-align: top;\n",
       "    }\n",
       "\n",
       "    .dataframe thead tr th {\n",
       "        text-align: left;\n",
       "    }\n",
       "\n",
       "    .dataframe thead tr:last-of-type th {\n",
       "        text-align: right;\n",
       "    }\n",
       "</style>\n",
       "<table border=\"1\" class=\"dataframe\">\n",
       "  <thead>\n",
       "    <tr>\n",
       "      <th></th>\n",
       "      <th colspan=\"7\" halign=\"left\">AGG</th>\n",
       "      <th colspan=\"7\" halign=\"left\">SPY</th>\n",
       "    </tr>\n",
       "    <tr>\n",
       "      <th></th>\n",
       "      <th>close</th>\n",
       "      <th>high</th>\n",
       "      <th>low</th>\n",
       "      <th>trade_count</th>\n",
       "      <th>open</th>\n",
       "      <th>volume</th>\n",
       "      <th>vwap</th>\n",
       "      <th>close</th>\n",
       "      <th>high</th>\n",
       "      <th>low</th>\n",
       "      <th>trade_count</th>\n",
       "      <th>open</th>\n",
       "      <th>volume</th>\n",
       "      <th>vwap</th>\n",
       "    </tr>\n",
       "    <tr>\n",
       "      <th>timestamp</th>\n",
       "      <th></th>\n",
       "      <th></th>\n",
       "      <th></th>\n",
       "      <th></th>\n",
       "      <th></th>\n",
       "      <th></th>\n",
       "      <th></th>\n",
       "      <th></th>\n",
       "      <th></th>\n",
       "      <th></th>\n",
       "      <th></th>\n",
       "      <th></th>\n",
       "      <th></th>\n",
       "      <th></th>\n",
       "    </tr>\n",
       "  </thead>\n",
       "  <tbody>\n",
       "    <tr>\n",
       "      <th>2023-12-29 05:00:00+00:00</th>\n",
       "      <td>99.25</td>\n",
       "      <td>99.425</td>\n",
       "      <td>99.13</td>\n",
       "      <td>26060</td>\n",
       "      <td>99.2</td>\n",
       "      <td>7327722</td>\n",
       "      <td>99.285422</td>\n",
       "      <td>475.31</td>\n",
       "      <td>477.03</td>\n",
       "      <td>473.3</td>\n",
       "      <td>604247</td>\n",
       "      <td>476.49</td>\n",
       "      <td>122268009</td>\n",
       "      <td>475.36401</td>\n",
       "    </tr>\n",
       "  </tbody>\n",
       "</table>\n",
       "</div>"
      ],
      "text/plain": [
       "                             AGG                                            \\\n",
       "                           close    high    low trade_count  open   volume   \n",
       "timestamp                                                                    \n",
       "2023-12-29 05:00:00+00:00  99.25  99.425  99.13       26060  99.2  7327722   \n",
       "\n",
       "                                         SPY                             \\\n",
       "                                vwap   close    high    low trade_count   \n",
       "timestamp                                                                 \n",
       "2023-12-29 05:00:00+00:00  99.285422  475.31  477.03  473.3      604247   \n",
       "\n",
       "                                                         \n",
       "                             open     volume       vwap  \n",
       "timestamp                                                \n",
       "2023-12-29 05:00:00+00:00  476.49  122268009  475.36401  "
      ]
     },
     "execution_count": 20,
     "metadata": {},
     "output_type": "execute_result"
    }
   ],
   "source": [
    "# Concatenate the ticker DataFrames\n",
    "\n",
    "df_portfolio = pd.concat([AGG,SPY], axis = 1, keys = ['AGG','SPY'])\n",
    "\n",
    "# Preview DataFrame\n",
    "\n",
    "df_portfolio"
   ]
  },
  {
   "cell_type": "code",
   "execution_count": 21,
   "metadata": {
    "tags": []
   },
   "outputs": [
    {
     "name": "stdout",
     "output_type": "stream",
     "text": [
      "Current AGG closing price: $99.25\n",
      "Current SPY closing price: $475.31\n"
     ]
    }
   ],
   "source": [
    "# Pick AGG and SPY close prices\n",
    "\n",
    "AGG_close_price = df_portfolio['AGG']['close'].iloc[0]\n",
    "SPY_close_price = df_portfolio['SPY']['close'].iloc[0]\n",
    "\n",
    "# Print AGG and SPY close prices\n",
    "\n",
    "print(f\"Current AGG closing price: ${AGG_close_price}\")\n",
    "print(f\"Current SPY closing price: ${SPY_close_price}\")"
   ]
  },
  {
   "cell_type": "code",
   "execution_count": 22,
   "metadata": {},
   "outputs": [
    {
     "name": "stdout",
     "output_type": "stream",
     "text": [
      "The current value of your 50 SPY shares is $23765.50\n",
      "The current value of your 200 AGG shares is $19850.00\n"
     ]
    }
   ],
   "source": [
    "# Compute the current value of shares\n",
    "\n",
    "AGG_value = AGG_close_price * my_agg\n",
    "SPY_value = SPY_close_price * my_spy\n",
    "\n",
    "# Print current value of shares\n",
    "print(f\"The current value of your {my_spy} SPY shares is ${SPY_value:0.2f}\")\n",
    "print(f\"The current value of your {my_agg} AGG shares is ${AGG_value:0.2f}\")"
   ]
  },
  {
   "cell_type": "code",
   "execution_count": 23,
   "metadata": {
    "tags": []
   },
   "outputs": [
    {
     "data": {
      "text/plain": [
       "43615.5"
      ]
     },
     "execution_count": 23,
     "metadata": {},
     "output_type": "execute_result"
    }
   ],
   "source": [
    "total_shares = AGG_value + SPY_value\n",
    "total_shares"
   ]
  },
  {
   "cell_type": "markdown",
   "metadata": {},
   "source": [
    "### Savings Health Analysis"
   ]
  },
  {
   "cell_type": "code",
   "execution_count": 24,
   "metadata": {},
   "outputs": [
    {
     "data": {
      "text/html": [
       "<div>\n",
       "<style scoped>\n",
       "    .dataframe tbody tr th:only-of-type {\n",
       "        vertical-align: middle;\n",
       "    }\n",
       "\n",
       "    .dataframe tbody tr th {\n",
       "        vertical-align: top;\n",
       "    }\n",
       "\n",
       "    .dataframe thead th {\n",
       "        text-align: right;\n",
       "    }\n",
       "</style>\n",
       "<table border=\"1\" class=\"dataframe\">\n",
       "  <thead>\n",
       "    <tr style=\"text-align: right;\">\n",
       "      <th></th>\n",
       "      <th>amount</th>\n",
       "    </tr>\n",
       "  </thead>\n",
       "  <tbody>\n",
       "    <tr>\n",
       "      <th>crypto</th>\n",
       "      <td>85680.699604</td>\n",
       "    </tr>\n",
       "    <tr>\n",
       "      <th>shares</th>\n",
       "      <td>43615.500000</td>\n",
       "    </tr>\n",
       "  </tbody>\n",
       "</table>\n",
       "</div>"
      ],
      "text/plain": [
       "              amount\n",
       "crypto  85680.699604\n",
       "shares  43615.500000"
      ]
     },
     "metadata": {},
     "output_type": "display_data"
    }
   ],
   "source": [
    "# Set monthly household income\n",
    "monthly_income = 12000\n",
    "\n",
    "# Consolidate financial assets data\n",
    "# YOUR CODE HERE! ? what to put here\n",
    "\n",
    "# Create savings DataFrame\n",
    "df_savings = pd.DataFrame({\"amount\": [total_crypto_wallet, total_shares]}, index = [\"crypto\", \"shares\"])\n",
    "\n",
    "# Display savings DataFrame\n",
    "display(df_savings)\n",
    "\n",
    "# are my numbers correct? Not the same as BCS picture given"
   ]
  },
  {
   "cell_type": "code",
   "execution_count": 25,
   "metadata": {},
   "outputs": [
    {
     "data": {
      "image/png": "[encoded data removed]",
      "text/plain": [
       "<Figure size 640x480 with 1 Axes>"
      ]
     },
     "metadata": {},
     "output_type": "display_data"
    }
   ],
   "source": [
    "# Plot savings pie chart\n",
    "\n",
    "df_savings.plot.pie(y='amount',title='Savings');"
   ]
  },
  {
   "cell_type": "code",
   "execution_count": 26,
   "metadata": {},
   "outputs": [
    {
     "name": "stdout",
     "output_type": "stream",
     "text": [
      "Congratulations! You have enough money for an emergency fund.\n"
     ]
    }
   ],
   "source": [
    "# Set ideal emergency fund\n",
    "emergency_fund = monthly_income * 3\n",
    "\n",
    "# Calculate total amount of savings\n",
    "total_savings = total_crypto_wallet + total_shares\n",
    "\n",
    "# Validate saving health\n",
    "if total_savings > emergency_fund:\n",
    "    print(\"Congratulations! You have enough money for an emergency fund.\")\n",
    "if total_savings == emergency_fund:\n",
    "    print(\"Congratulations! You've reached your emergency fund goal.\")\n",
    "if total_savings < emergency_fund:\n",
    "    print(f\"You are ${emergency_fund - total_savings} short from reaching your goal.\")"
   ]
  },
  {
   "cell_type": "markdown",
   "metadata": {},
   "source": [
    "## Part 2 - Retirement Planning\n",
    "\n",
    "### Monte Carlo Simulation"
   ]
  },
  {
   "cell_type": "code",
   "execution_count": 27,
   "metadata": {},
   "outputs": [],
   "source": [
    "# Set start and end dates of five years back from today.\n",
    "# Sample results may vary from the solution based on the time frame chosen\n",
    "start_date = pd.Timestamp('2018-12-30', tz='America/New_York').isoformat()\n",
    "end_date = pd.Timestamp('2023-12-30', tz='America/New_York').isoformat()"
   ]
  },
  {
   "cell_type": "code",
   "execution_count": 28,
   "metadata": {
    "tags": []
   },
   "outputs": [
    {
     "data": {
      "text/html": [
       "<div>\n",
       "<style scoped>\n",
       "    .dataframe tbody tr th:only-of-type {\n",
       "        vertical-align: middle;\n",
       "    }\n",
       "\n",
       "    .dataframe tbody tr th {\n",
       "        vertical-align: top;\n",
       "    }\n",
       "\n",
       "    .dataframe thead tr th {\n",
       "        text-align: left;\n",
       "    }\n",
       "\n",
       "    .dataframe thead tr:last-of-type th {\n",
       "        text-align: right;\n",
       "    }\n",
       "</style>\n",
       "<table border=\"1\" class=\"dataframe\">\n",
       "  <thead>\n",
       "    <tr>\n",
       "      <th></th>\n",
       "      <th colspan=\"7\" halign=\"left\">AGG</th>\n",
       "      <th colspan=\"7\" halign=\"left\">SPY</th>\n",
       "    </tr>\n",
       "    <tr>\n",
       "      <th></th>\n",
       "      <th>close</th>\n",
       "      <th>high</th>\n",
       "      <th>low</th>\n",
       "      <th>trade_count</th>\n",
       "      <th>open</th>\n",
       "      <th>volume</th>\n",
       "      <th>vwap</th>\n",
       "      <th>close</th>\n",
       "      <th>high</th>\n",
       "      <th>low</th>\n",
       "      <th>trade_count</th>\n",
       "      <th>open</th>\n",
       "      <th>volume</th>\n",
       "      <th>vwap</th>\n",
       "    </tr>\n",
       "    <tr>\n",
       "      <th>timestamp</th>\n",
       "      <th></th>\n",
       "      <th></th>\n",
       "      <th></th>\n",
       "      <th></th>\n",
       "      <th></th>\n",
       "      <th></th>\n",
       "      <th></th>\n",
       "      <th></th>\n",
       "      <th></th>\n",
       "      <th></th>\n",
       "      <th></th>\n",
       "      <th></th>\n",
       "      <th></th>\n",
       "      <th></th>\n",
       "    </tr>\n",
       "  </thead>\n",
       "  <tbody>\n",
       "    <tr>\n",
       "      <th>2018-12-31 05:00:00+00:00</th>\n",
       "      <td>106.49</td>\n",
       "      <td>106.510</td>\n",
       "      <td>106.1100</td>\n",
       "      <td>27920</td>\n",
       "      <td>106.12</td>\n",
       "      <td>10613435</td>\n",
       "      <td>106.394350</td>\n",
       "      <td>250.08</td>\n",
       "      <td>250.19</td>\n",
       "      <td>247.47</td>\n",
       "      <td>591024</td>\n",
       "      <td>249.56</td>\n",
       "      <td>147557713</td>\n",
       "      <td>249.158331</td>\n",
       "    </tr>\n",
       "    <tr>\n",
       "      <th>2019-01-02 05:00:00+00:00</th>\n",
       "      <td>106.57</td>\n",
       "      <td>106.610</td>\n",
       "      <td>106.4701</td>\n",
       "      <td>27947</td>\n",
       "      <td>106.55</td>\n",
       "      <td>11665497</td>\n",
       "      <td>106.543515</td>\n",
       "      <td>250.23</td>\n",
       "      <td>251.21</td>\n",
       "      <td>245.95</td>\n",
       "      <td>603603</td>\n",
       "      <td>245.98</td>\n",
       "      <td>132165224</td>\n",
       "      <td>249.138858</td>\n",
       "    </tr>\n",
       "    <tr>\n",
       "      <th>2019-01-03 05:00:00+00:00</th>\n",
       "      <td>107.01</td>\n",
       "      <td>107.075</td>\n",
       "      <td>106.5700</td>\n",
       "      <td>20214</td>\n",
       "      <td>106.57</td>\n",
       "      <td>6661940</td>\n",
       "      <td>106.935661</td>\n",
       "      <td>244.15</td>\n",
       "      <td>248.57</td>\n",
       "      <td>243.67</td>\n",
       "      <td>698036</td>\n",
       "      <td>248.23</td>\n",
       "      <td>146823673</td>\n",
       "      <td>245.630167</td>\n",
       "    </tr>\n",
       "    <tr>\n",
       "      <th>2019-01-04 05:00:00+00:00</th>\n",
       "      <td>106.69</td>\n",
       "      <td>106.720</td>\n",
       "      <td>106.5500</td>\n",
       "      <td>19548</td>\n",
       "      <td>106.66</td>\n",
       "      <td>8392420</td>\n",
       "      <td>106.640950</td>\n",
       "      <td>252.39</td>\n",
       "      <td>253.11</td>\n",
       "      <td>247.17</td>\n",
       "      <td>708230</td>\n",
       "      <td>247.59</td>\n",
       "      <td>145055352</td>\n",
       "      <td>250.484620</td>\n",
       "    </tr>\n",
       "    <tr>\n",
       "      <th>2019-01-07 05:00:00+00:00</th>\n",
       "      <td>106.51</td>\n",
       "      <td>106.790</td>\n",
       "      <td>106.4600</td>\n",
       "      <td>23936</td>\n",
       "      <td>106.72</td>\n",
       "      <td>7636381</td>\n",
       "      <td>106.586821</td>\n",
       "      <td>254.29</td>\n",
       "      <td>255.95</td>\n",
       "      <td>251.69</td>\n",
       "      <td>449993</td>\n",
       "      <td>252.69</td>\n",
       "      <td>105208591</td>\n",
       "      <td>254.071648</td>\n",
       "    </tr>\n",
       "  </tbody>\n",
       "</table>\n",
       "</div>"
      ],
      "text/plain": [
       "                              AGG                                         \\\n",
       "                            close     high       low trade_count    open   \n",
       "timestamp                                                                  \n",
       "2018-12-31 05:00:00+00:00  106.49  106.510  106.1100       27920  106.12   \n",
       "2019-01-02 05:00:00+00:00  106.57  106.610  106.4701       27947  106.55   \n",
       "2019-01-03 05:00:00+00:00  107.01  107.075  106.5700       20214  106.57   \n",
       "2019-01-04 05:00:00+00:00  106.69  106.720  106.5500       19548  106.66   \n",
       "2019-01-07 05:00:00+00:00  106.51  106.790  106.4600       23936  106.72   \n",
       "\n",
       "                                                    SPY                  \\\n",
       "                             volume        vwap   close    high     low   \n",
       "timestamp                                                                 \n",
       "2018-12-31 05:00:00+00:00  10613435  106.394350  250.08  250.19  247.47   \n",
       "2019-01-02 05:00:00+00:00  11665497  106.543515  250.23  251.21  245.95   \n",
       "2019-01-03 05:00:00+00:00   6661940  106.935661  244.15  248.57  243.67   \n",
       "2019-01-04 05:00:00+00:00   8392420  106.640950  252.39  253.11  247.17   \n",
       "2019-01-07 05:00:00+00:00   7636381  106.586821  254.29  255.95  251.69   \n",
       "\n",
       "                                                                      \n",
       "                          trade_count    open     volume        vwap  \n",
       "timestamp                                                             \n",
       "2018-12-31 05:00:00+00:00      591024  249.56  147557713  249.158331  \n",
       "2019-01-02 05:00:00+00:00      603603  245.98  132165224  249.138858  \n",
       "2019-01-03 05:00:00+00:00      698036  248.23  146823673  245.630167  \n",
       "2019-01-04 05:00:00+00:00      708230  247.59  145055352  250.484620  \n",
       "2019-01-07 05:00:00+00:00      449993  252.69  105208591  254.071648  "
      ]
     },
     "execution_count": 28,
     "metadata": {},
     "output_type": "execute_result"
    }
   ],
   "source": [
    "# Get 5 years' worth of historical data for SPY and AGG\n",
    "df_stock_data = alpaca.get_bars(tickers,timeframe, start = start_date, end = end_date).df\n",
    "\n",
    "# Reorganize the DataFrame\n",
    "# Separate ticker data\n",
    "\n",
    "AGG = df_stock_data[df_stock_data['symbol'] == 'AGG']\n",
    "AGG = AGG.drop('symbol',axis=1)\n",
    "\n",
    "SPY = df_stock_data[df_stock_data['symbol'] == 'SPY'].drop('symbol',axis=1)\n",
    "\n",
    "# Concatenate the ticker DataFrames\n",
    "df_stock_data = pd.concat([AGG, SPY], axis=1, keys=[\"AGG\", \"SPY\"])\n",
    "\n",
    "# Display sample data\n",
    "df_stock_data.head()\n"
   ]
  },
  {
   "cell_type": "code",
   "execution_count": 29,
   "metadata": {
    "tags": []
   },
   "outputs": [
    {
     "data": {
      "text/plain": [
       "\u001b[0;31mInit signature:\u001b[0m\n",
       "\u001b[0mMCSimulation\u001b[0m\u001b[0;34m(\u001b[0m\u001b[0;34m\u001b[0m\n",
       "\u001b[0;34m\u001b[0m    \u001b[0mportfolio_data\u001b[0m\u001b[0;34m,\u001b[0m\u001b[0;34m\u001b[0m\n",
       "\u001b[0;34m\u001b[0m    \u001b[0mweights\u001b[0m\u001b[0;34m=\u001b[0m\u001b[0;32mNone\u001b[0m\u001b[0;34m,\u001b[0m\u001b[0;34m\u001b[0m\n",
       "\u001b[0;34m\u001b[0m    \u001b[0mnum_simulation\u001b[0m\u001b[0;34m=\u001b[0m\u001b[0;36m1000\u001b[0m\u001b[0;34m,\u001b[0m\u001b[0;34m\u001b[0m\n",
       "\u001b[0;34m\u001b[0m    \u001b[0mnum_trading_days\u001b[0m\u001b[0;34m=\u001b[0m\u001b[0;36m252\u001b[0m\u001b[0;34m,\u001b[0m\u001b[0;34m\u001b[0m\n",
       "\u001b[0;34m\u001b[0m\u001b[0;34m)\u001b[0m\u001b[0;34m\u001b[0m\u001b[0;34m\u001b[0m\u001b[0m\n",
       "\u001b[0;31mDocstring:\u001b[0m      <no docstring>\n",
       "\u001b[0;31mFile:\u001b[0m           ~/Desktop/Module-5-Challenge/MCForecastTools1.py\n",
       "\u001b[0;31mType:\u001b[0m           type\n",
       "\u001b[0;31mSubclasses:\u001b[0m     "
      ]
     },
     "metadata": {},
     "output_type": "display_data"
    }
   ],
   "source": [
    "?MCSimulation"
   ]
  },
  {
   "cell_type": "code",
   "execution_count": 30,
   "metadata": {},
   "outputs": [],
   "source": [
    "# Configuring a Monte Carlo simulation to forecast 30 years cumulative returns\n",
    "# YOUR CODE HERE!\n",
    "\n",
    "MC_30years = MCSimulation(\n",
    "    portfolio_data = df_stock_data,\n",
    "    weights=[.60,.40],\n",
    "    num_simulation=500,\n",
    "    num_trading_days=252*30,\n",
    ")"
   ]
  },
  {
   "cell_type": "code",
   "execution_count": 31,
   "metadata": {},
   "outputs": [
    {
     "data": {
      "text/html": [
       "<div>\n",
       "<style scoped>\n",
       "    .dataframe tbody tr th:only-of-type {\n",
       "        vertical-align: middle;\n",
       "    }\n",
       "\n",
       "    .dataframe tbody tr th {\n",
       "        vertical-align: top;\n",
       "    }\n",
       "\n",
       "    .dataframe thead tr th {\n",
       "        text-align: left;\n",
       "    }\n",
       "\n",
       "    .dataframe thead tr:last-of-type th {\n",
       "        text-align: right;\n",
       "    }\n",
       "</style>\n",
       "<table border=\"1\" class=\"dataframe\">\n",
       "  <thead>\n",
       "    <tr>\n",
       "      <th></th>\n",
       "      <th colspan=\"8\" halign=\"left\">AGG</th>\n",
       "      <th colspan=\"8\" halign=\"left\">SPY</th>\n",
       "    </tr>\n",
       "    <tr>\n",
       "      <th></th>\n",
       "      <th>close</th>\n",
       "      <th>high</th>\n",
       "      <th>low</th>\n",
       "      <th>trade_count</th>\n",
       "      <th>open</th>\n",
       "      <th>volume</th>\n",
       "      <th>vwap</th>\n",
       "      <th>daily_return</th>\n",
       "      <th>close</th>\n",
       "      <th>high</th>\n",
       "      <th>low</th>\n",
       "      <th>trade_count</th>\n",
       "      <th>open</th>\n",
       "      <th>volume</th>\n",
       "      <th>vwap</th>\n",
       "      <th>daily_return</th>\n",
       "    </tr>\n",
       "    <tr>\n",
       "      <th>timestamp</th>\n",
       "      <th></th>\n",
       "      <th></th>\n",
       "      <th></th>\n",
       "      <th></th>\n",
       "      <th></th>\n",
       "      <th></th>\n",
       "      <th></th>\n",
       "      <th></th>\n",
       "      <th></th>\n",
       "      <th></th>\n",
       "      <th></th>\n",
       "      <th></th>\n",
       "      <th></th>\n",
       "      <th></th>\n",
       "      <th></th>\n",
       "      <th></th>\n",
       "    </tr>\n",
       "  </thead>\n",
       "  <tbody>\n",
       "    <tr>\n",
       "      <th>2018-12-31 05:00:00+00:00</th>\n",
       "      <td>106.49</td>\n",
       "      <td>106.510</td>\n",
       "      <td>106.1100</td>\n",
       "      <td>27920</td>\n",
       "      <td>106.12</td>\n",
       "      <td>10613435</td>\n",
       "      <td>106.394350</td>\n",
       "      <td>NaN</td>\n",
       "      <td>250.08</td>\n",
       "      <td>250.19</td>\n",
       "      <td>247.47</td>\n",
       "      <td>591024</td>\n",
       "      <td>249.56</td>\n",
       "      <td>147557713</td>\n",
       "      <td>249.158331</td>\n",
       "      <td>NaN</td>\n",
       "    </tr>\n",
       "    <tr>\n",
       "      <th>2019-01-02 05:00:00+00:00</th>\n",
       "      <td>106.57</td>\n",
       "      <td>106.610</td>\n",
       "      <td>106.4701</td>\n",
       "      <td>27947</td>\n",
       "      <td>106.55</td>\n",
       "      <td>11665497</td>\n",
       "      <td>106.543515</td>\n",
       "      <td>0.000751</td>\n",
       "      <td>250.23</td>\n",
       "      <td>251.21</td>\n",
       "      <td>245.95</td>\n",
       "      <td>603603</td>\n",
       "      <td>245.98</td>\n",
       "      <td>132165224</td>\n",
       "      <td>249.138858</td>\n",
       "      <td>0.000600</td>\n",
       "    </tr>\n",
       "    <tr>\n",
       "      <th>2019-01-03 05:00:00+00:00</th>\n",
       "      <td>107.01</td>\n",
       "      <td>107.075</td>\n",
       "      <td>106.5700</td>\n",
       "      <td>20214</td>\n",
       "      <td>106.57</td>\n",
       "      <td>6661940</td>\n",
       "      <td>106.935661</td>\n",
       "      <td>0.004129</td>\n",
       "      <td>244.15</td>\n",
       "      <td>248.57</td>\n",
       "      <td>243.67</td>\n",
       "      <td>698036</td>\n",
       "      <td>248.23</td>\n",
       "      <td>146823673</td>\n",
       "      <td>245.630167</td>\n",
       "      <td>-0.024298</td>\n",
       "    </tr>\n",
       "    <tr>\n",
       "      <th>2019-01-04 05:00:00+00:00</th>\n",
       "      <td>106.69</td>\n",
       "      <td>106.720</td>\n",
       "      <td>106.5500</td>\n",
       "      <td>19548</td>\n",
       "      <td>106.66</td>\n",
       "      <td>8392420</td>\n",
       "      <td>106.640950</td>\n",
       "      <td>-0.002990</td>\n",
       "      <td>252.39</td>\n",
       "      <td>253.11</td>\n",
       "      <td>247.17</td>\n",
       "      <td>708230</td>\n",
       "      <td>247.59</td>\n",
       "      <td>145055352</td>\n",
       "      <td>250.484620</td>\n",
       "      <td>0.033750</td>\n",
       "    </tr>\n",
       "    <tr>\n",
       "      <th>2019-01-07 05:00:00+00:00</th>\n",
       "      <td>106.51</td>\n",
       "      <td>106.790</td>\n",
       "      <td>106.4600</td>\n",
       "      <td>23936</td>\n",
       "      <td>106.72</td>\n",
       "      <td>7636381</td>\n",
       "      <td>106.586821</td>\n",
       "      <td>-0.001687</td>\n",
       "      <td>254.29</td>\n",
       "      <td>255.95</td>\n",
       "      <td>251.69</td>\n",
       "      <td>449993</td>\n",
       "      <td>252.69</td>\n",
       "      <td>105208591</td>\n",
       "      <td>254.071648</td>\n",
       "      <td>0.007528</td>\n",
       "    </tr>\n",
       "  </tbody>\n",
       "</table>\n",
       "</div>"
      ],
      "text/plain": [
       "                              AGG                                         \\\n",
       "                            close     high       low trade_count    open   \n",
       "timestamp                                                                  \n",
       "2018-12-31 05:00:00+00:00  106.49  106.510  106.1100       27920  106.12   \n",
       "2019-01-02 05:00:00+00:00  106.57  106.610  106.4701       27947  106.55   \n",
       "2019-01-03 05:00:00+00:00  107.01  107.075  106.5700       20214  106.57   \n",
       "2019-01-04 05:00:00+00:00  106.69  106.720  106.5500       19548  106.66   \n",
       "2019-01-07 05:00:00+00:00  106.51  106.790  106.4600       23936  106.72   \n",
       "\n",
       "                                                                 SPY          \\\n",
       "                             volume        vwap daily_return   close    high   \n",
       "timestamp                                                                      \n",
       "2018-12-31 05:00:00+00:00  10613435  106.394350          NaN  250.08  250.19   \n",
       "2019-01-02 05:00:00+00:00  11665497  106.543515     0.000751  250.23  251.21   \n",
       "2019-01-03 05:00:00+00:00   6661940  106.935661     0.004129  244.15  248.57   \n",
       "2019-01-04 05:00:00+00:00   8392420  106.640950    -0.002990  252.39  253.11   \n",
       "2019-01-07 05:00:00+00:00   7636381  106.586821    -0.001687  254.29  255.95   \n",
       "\n",
       "                                                                              \\\n",
       "                              low trade_count    open     volume        vwap   \n",
       "timestamp                                                                      \n",
       "2018-12-31 05:00:00+00:00  247.47      591024  249.56  147557713  249.158331   \n",
       "2019-01-02 05:00:00+00:00  245.95      603603  245.98  132165224  249.138858   \n",
       "2019-01-03 05:00:00+00:00  243.67      698036  248.23  146823673  245.630167   \n",
       "2019-01-04 05:00:00+00:00  247.17      708230  247.59  145055352  250.484620   \n",
       "2019-01-07 05:00:00+00:00  251.69      449993  252.69  105208591  254.071648   \n",
       "\n",
       "                                        \n",
       "                          daily_return  \n",
       "timestamp                               \n",
       "2018-12-31 05:00:00+00:00          NaN  \n",
       "2019-01-02 05:00:00+00:00     0.000600  \n",
       "2019-01-03 05:00:00+00:00    -0.024298  \n",
       "2019-01-04 05:00:00+00:00     0.033750  \n",
       "2019-01-07 05:00:00+00:00     0.007528  "
      ]
     },
     "execution_count": 31,
     "metadata": {},
     "output_type": "execute_result"
    }
   ],
   "source": [
    "# Printing the simulation input data\n",
    "MC_30years.portfolio_data.head()"
   ]
  },
  {
   "cell_type": "code",
   "execution_count": 32,
   "metadata": {},
   "outputs": [
    {
     "name": "stdout",
     "output_type": "stream",
     "text": [
      "Running Monte Carlo simulation number 0.\n",
      "Running Monte Carlo simulation number 10.\n",
      "Running Monte Carlo simulation number 20.\n",
      "Running Monte Carlo simulation number 30.\n",
      "Running Monte Carlo simulation number 40.\n",
      "Running Monte Carlo simulation number 50.\n",
      "Running Monte Carlo simulation number 60.\n",
      "Running Monte Carlo simulation number 70.\n",
      "Running Monte Carlo simulation number 80.\n",
      "Running Monte Carlo simulation number 90.\n",
      "Running Monte Carlo simulation number 100.\n",
      "Running Monte Carlo simulation number 110.\n",
      "Running Monte Carlo simulation number 120.\n",
      "Running Monte Carlo simulation number 130.\n",
      "Running Monte Carlo simulation number 140.\n",
      "Running Monte Carlo simulation number 150.\n",
      "Running Monte Carlo simulation number 160.\n",
      "Running Monte Carlo simulation number 170.\n",
      "Running Monte Carlo simulation number 180.\n",
      "Running Monte Carlo simulation number 190.\n",
      "Running Monte Carlo simulation number 200.\n",
      "Running Monte Carlo simulation number 210.\n",
      "Running Monte Carlo simulation number 220.\n",
      "Running Monte Carlo simulation number 230.\n",
      "Running Monte Carlo simulation number 240.\n",
      "Running Monte Carlo simulation number 250.\n",
      "Running Monte Carlo simulation number 260.\n",
      "Running Monte Carlo simulation number 270.\n",
      "Running Monte Carlo simulation number 280.\n",
      "Running Monte Carlo simulation number 290.\n",
      "Running Monte Carlo simulation number 300.\n",
      "Running Monte Carlo simulation number 310.\n",
      "Running Monte Carlo simulation number 320.\n",
      "Running Monte Carlo simulation number 330.\n",
      "Running Monte Carlo simulation number 340.\n",
      "Running Monte Carlo simulation number 350.\n",
      "Running Monte Carlo simulation number 360.\n",
      "Running Monte Carlo simulation number 370.\n",
      "Running Monte Carlo simulation number 380.\n",
      "Running Monte Carlo simulation number 390.\n",
      "Running Monte Carlo simulation number 400.\n",
      "Running Monte Carlo simulation number 410.\n",
      "Running Monte Carlo simulation number 420.\n",
      "Running Monte Carlo simulation number 430.\n",
      "Running Monte Carlo simulation number 440.\n",
      "Running Monte Carlo simulation number 450.\n",
      "Running Monte Carlo simulation number 460.\n",
      "Running Monte Carlo simulation number 470.\n",
      "Running Monte Carlo simulation number 480.\n",
      "Running Monte Carlo simulation number 490.\n"
     ]
    },
    {
     "data": {
      "text/html": [
       "<div>\n",
       "<style scoped>\n",
       "    .dataframe tbody tr th:only-of-type {\n",
       "        vertical-align: middle;\n",
       "    }\n",
       "\n",
       "    .dataframe tbody tr th {\n",
       "        vertical-align: top;\n",
       "    }\n",
       "\n",
       "    .dataframe thead th {\n",
       "        text-align: right;\n",
       "    }\n",
       "</style>\n",
       "<table border=\"1\" class=\"dataframe\">\n",
       "  <thead>\n",
       "    <tr style=\"text-align: right;\">\n",
       "      <th></th>\n",
       "      <th>0</th>\n",
       "      <th>1</th>\n",
       "      <th>2</th>\n",
       "      <th>3</th>\n",
       "      <th>4</th>\n",
       "      <th>5</th>\n",
       "      <th>6</th>\n",
       "      <th>7</th>\n",
       "      <th>8</th>\n",
       "      <th>9</th>\n",
       "      <th>...</th>\n",
       "      <th>490</th>\n",
       "      <th>491</th>\n",
       "      <th>492</th>\n",
       "      <th>493</th>\n",
       "      <th>494</th>\n",
       "      <th>495</th>\n",
       "      <th>496</th>\n",
       "      <th>497</th>\n",
       "      <th>498</th>\n",
       "      <th>499</th>\n",
       "    </tr>\n",
       "  </thead>\n",
       "  <tbody>\n",
       "    <tr>\n",
       "      <th>0</th>\n",
       "      <td>1.000000</td>\n",
       "      <td>1.000000</td>\n",
       "      <td>1.000000</td>\n",
       "      <td>1.000000</td>\n",
       "      <td>1.000000</td>\n",
       "      <td>1.000000</td>\n",
       "      <td>1.000000</td>\n",
       "      <td>1.000000</td>\n",
       "      <td>1.000000</td>\n",
       "      <td>1.000000</td>\n",
       "      <td>...</td>\n",
       "      <td>1.000000</td>\n",
       "      <td>1.000000</td>\n",
       "      <td>1.000000</td>\n",
       "      <td>1.000000</td>\n",
       "      <td>1.000000</td>\n",
       "      <td>1.000000</td>\n",
       "      <td>1.000000</td>\n",
       "      <td>1.000000</td>\n",
       "      <td>1.000000</td>\n",
       "      <td>1.000000</td>\n",
       "    </tr>\n",
       "    <tr>\n",
       "      <th>1</th>\n",
       "      <td>0.997928</td>\n",
       "      <td>1.004321</td>\n",
       "      <td>0.997320</td>\n",
       "      <td>1.002691</td>\n",
       "      <td>0.995910</td>\n",
       "      <td>0.986630</td>\n",
       "      <td>0.992208</td>\n",
       "      <td>0.997122</td>\n",
       "      <td>1.002459</td>\n",
       "      <td>1.010124</td>\n",
       "      <td>...</td>\n",
       "      <td>1.012276</td>\n",
       "      <td>1.007928</td>\n",
       "      <td>1.013655</td>\n",
       "      <td>1.001267</td>\n",
       "      <td>0.996483</td>\n",
       "      <td>1.001665</td>\n",
       "      <td>1.008749</td>\n",
       "      <td>0.992832</td>\n",
       "      <td>1.001787</td>\n",
       "      <td>1.011467</td>\n",
       "    </tr>\n",
       "    <tr>\n",
       "      <th>2</th>\n",
       "      <td>0.988469</td>\n",
       "      <td>0.996531</td>\n",
       "      <td>0.990463</td>\n",
       "      <td>1.006776</td>\n",
       "      <td>0.999397</td>\n",
       "      <td>0.983463</td>\n",
       "      <td>0.996631</td>\n",
       "      <td>1.010027</td>\n",
       "      <td>1.003429</td>\n",
       "      <td>1.006842</td>\n",
       "      <td>...</td>\n",
       "      <td>1.014508</td>\n",
       "      <td>1.017045</td>\n",
       "      <td>1.016566</td>\n",
       "      <td>1.005249</td>\n",
       "      <td>0.991897</td>\n",
       "      <td>1.007394</td>\n",
       "      <td>1.015384</td>\n",
       "      <td>0.997227</td>\n",
       "      <td>1.012686</td>\n",
       "      <td>1.017215</td>\n",
       "    </tr>\n",
       "    <tr>\n",
       "      <th>3</th>\n",
       "      <td>0.993599</td>\n",
       "      <td>0.988118</td>\n",
       "      <td>0.985881</td>\n",
       "      <td>1.013159</td>\n",
       "      <td>0.989181</td>\n",
       "      <td>0.986996</td>\n",
       "      <td>0.985444</td>\n",
       "      <td>1.011020</td>\n",
       "      <td>1.001530</td>\n",
       "      <td>1.013934</td>\n",
       "      <td>...</td>\n",
       "      <td>1.012378</td>\n",
       "      <td>1.014155</td>\n",
       "      <td>1.012074</td>\n",
       "      <td>1.006109</td>\n",
       "      <td>0.997603</td>\n",
       "      <td>1.011251</td>\n",
       "      <td>1.019950</td>\n",
       "      <td>1.007183</td>\n",
       "      <td>1.003473</td>\n",
       "      <td>1.015726</td>\n",
       "    </tr>\n",
       "    <tr>\n",
       "      <th>4</th>\n",
       "      <td>0.985839</td>\n",
       "      <td>0.994212</td>\n",
       "      <td>0.983635</td>\n",
       "      <td>1.016224</td>\n",
       "      <td>0.986929</td>\n",
       "      <td>0.987442</td>\n",
       "      <td>0.988592</td>\n",
       "      <td>1.007659</td>\n",
       "      <td>0.994348</td>\n",
       "      <td>1.015560</td>\n",
       "      <td>...</td>\n",
       "      <td>1.007516</td>\n",
       "      <td>1.009514</td>\n",
       "      <td>1.011441</td>\n",
       "      <td>1.018038</td>\n",
       "      <td>0.999256</td>\n",
       "      <td>0.995143</td>\n",
       "      <td>1.018538</td>\n",
       "      <td>1.018216</td>\n",
       "      <td>1.002821</td>\n",
       "      <td>1.019734</td>\n",
       "    </tr>\n",
       "    <tr>\n",
       "      <th>...</th>\n",
       "      <td>...</td>\n",
       "      <td>...</td>\n",
       "      <td>...</td>\n",
       "      <td>...</td>\n",
       "      <td>...</td>\n",
       "      <td>...</td>\n",
       "      <td>...</td>\n",
       "      <td>...</td>\n",
       "      <td>...</td>\n",
       "      <td>...</td>\n",
       "      <td>...</td>\n",
       "      <td>...</td>\n",
       "      <td>...</td>\n",
       "      <td>...</td>\n",
       "      <td>...</td>\n",
       "      <td>...</td>\n",
       "      <td>...</td>\n",
       "      <td>...</td>\n",
       "      <td>...</td>\n",
       "      <td>...</td>\n",
       "      <td>...</td>\n",
       "    </tr>\n",
       "    <tr>\n",
       "      <th>7556</th>\n",
       "      <td>3.038401</td>\n",
       "      <td>8.292453</td>\n",
       "      <td>3.032868</td>\n",
       "      <td>11.295143</td>\n",
       "      <td>7.345413</td>\n",
       "      <td>8.433843</td>\n",
       "      <td>4.661978</td>\n",
       "      <td>5.203235</td>\n",
       "      <td>3.355861</td>\n",
       "      <td>2.639783</td>\n",
       "      <td>...</td>\n",
       "      <td>5.392208</td>\n",
       "      <td>3.248838</td>\n",
       "      <td>2.543894</td>\n",
       "      <td>6.667577</td>\n",
       "      <td>5.022663</td>\n",
       "      <td>3.870396</td>\n",
       "      <td>2.223340</td>\n",
       "      <td>3.377291</td>\n",
       "      <td>4.798472</td>\n",
       "      <td>5.126249</td>\n",
       "    </tr>\n",
       "    <tr>\n",
       "      <th>7557</th>\n",
       "      <td>3.021759</td>\n",
       "      <td>8.248308</td>\n",
       "      <td>3.037498</td>\n",
       "      <td>11.234924</td>\n",
       "      <td>7.327682</td>\n",
       "      <td>8.419180</td>\n",
       "      <td>4.725406</td>\n",
       "      <td>5.185299</td>\n",
       "      <td>3.363040</td>\n",
       "      <td>2.650365</td>\n",
       "      <td>...</td>\n",
       "      <td>5.367243</td>\n",
       "      <td>3.235173</td>\n",
       "      <td>2.546521</td>\n",
       "      <td>6.646635</td>\n",
       "      <td>5.051646</td>\n",
       "      <td>3.892797</td>\n",
       "      <td>2.247003</td>\n",
       "      <td>3.412465</td>\n",
       "      <td>4.764799</td>\n",
       "      <td>5.138338</td>\n",
       "    </tr>\n",
       "    <tr>\n",
       "      <th>7558</th>\n",
       "      <td>3.014229</td>\n",
       "      <td>8.209225</td>\n",
       "      <td>3.056627</td>\n",
       "      <td>11.192499</td>\n",
       "      <td>7.343080</td>\n",
       "      <td>8.369323</td>\n",
       "      <td>4.750796</td>\n",
       "      <td>5.204243</td>\n",
       "      <td>3.363866</td>\n",
       "      <td>2.643011</td>\n",
       "      <td>...</td>\n",
       "      <td>5.418819</td>\n",
       "      <td>3.218316</td>\n",
       "      <td>2.559186</td>\n",
       "      <td>6.638160</td>\n",
       "      <td>5.047628</td>\n",
       "      <td>3.858551</td>\n",
       "      <td>2.258919</td>\n",
       "      <td>3.437572</td>\n",
       "      <td>4.811714</td>\n",
       "      <td>5.137683</td>\n",
       "    </tr>\n",
       "    <tr>\n",
       "      <th>7559</th>\n",
       "      <td>3.017712</td>\n",
       "      <td>8.281149</td>\n",
       "      <td>3.061355</td>\n",
       "      <td>11.186311</td>\n",
       "      <td>7.424864</td>\n",
       "      <td>8.370075</td>\n",
       "      <td>4.728759</td>\n",
       "      <td>5.241307</td>\n",
       "      <td>3.363400</td>\n",
       "      <td>2.613679</td>\n",
       "      <td>...</td>\n",
       "      <td>5.395812</td>\n",
       "      <td>3.228224</td>\n",
       "      <td>2.594541</td>\n",
       "      <td>6.704917</td>\n",
       "      <td>5.102290</td>\n",
       "      <td>3.842641</td>\n",
       "      <td>2.259899</td>\n",
       "      <td>3.440615</td>\n",
       "      <td>4.821785</td>\n",
       "      <td>5.105044</td>\n",
       "    </tr>\n",
       "    <tr>\n",
       "      <th>7560</th>\n",
       "      <td>3.022627</td>\n",
       "      <td>8.345824</td>\n",
       "      <td>3.067307</td>\n",
       "      <td>11.333353</td>\n",
       "      <td>7.410616</td>\n",
       "      <td>8.305707</td>\n",
       "      <td>4.699278</td>\n",
       "      <td>5.249705</td>\n",
       "      <td>3.382453</td>\n",
       "      <td>2.631568</td>\n",
       "      <td>...</td>\n",
       "      <td>5.415346</td>\n",
       "      <td>3.216777</td>\n",
       "      <td>2.585998</td>\n",
       "      <td>6.706590</td>\n",
       "      <td>5.097809</td>\n",
       "      <td>3.870883</td>\n",
       "      <td>2.248238</td>\n",
       "      <td>3.457509</td>\n",
       "      <td>4.839206</td>\n",
       "      <td>5.071738</td>\n",
       "    </tr>\n",
       "  </tbody>\n",
       "</table>\n",
       "<p>7561 rows × 500 columns</p>\n",
       "</div>"
      ],
      "text/plain": [
       "           0         1         2          3         4         5         6    \\\n",
       "0     1.000000  1.000000  1.000000   1.000000  1.000000  1.000000  1.000000   \n",
       "1     0.997928  1.004321  0.997320   1.002691  0.995910  0.986630  0.992208   \n",
       "2     0.988469  0.996531  0.990463   1.006776  0.999397  0.983463  0.996631   \n",
       "3     0.993599  0.988118  0.985881   1.013159  0.989181  0.986996  0.985444   \n",
       "4     0.985839  0.994212  0.983635   1.016224  0.986929  0.987442  0.988592   \n",
       "...        ...       ...       ...        ...       ...       ...       ...   \n",
       "7556  3.038401  8.292453  3.032868  11.295143  7.345413  8.433843  4.661978   \n",
       "7557  3.021759  8.248308  3.037498  11.234924  7.327682  8.419180  4.725406   \n",
       "7558  3.014229  8.209225  3.056627  11.192499  7.343080  8.369323  4.750796   \n",
       "7559  3.017712  8.281149  3.061355  11.186311  7.424864  8.370075  4.728759   \n",
       "7560  3.022627  8.345824  3.067307  11.333353  7.410616  8.305707  4.699278   \n",
       "\n",
       "           7         8         9    ...       490       491       492  \\\n",
       "0     1.000000  1.000000  1.000000  ...  1.000000  1.000000  1.000000   \n",
       "1     0.997122  1.002459  1.010124  ...  1.012276  1.007928  1.013655   \n",
       "2     1.010027  1.003429  1.006842  ...  1.014508  1.017045  1.016566   \n",
       "3     1.011020  1.001530  1.013934  ...  1.012378  1.014155  1.012074   \n",
       "4     1.007659  0.994348  1.015560  ...  1.007516  1.009514  1.011441   \n",
       "...        ...       ...       ...  ...       ...       ...       ...   \n",
       "7556  5.203235  3.355861  2.639783  ...  5.392208  3.248838  2.543894   \n",
       "7557  5.185299  3.363040  2.650365  ...  5.367243  3.235173  2.546521   \n",
       "7558  5.204243  3.363866  2.643011  ...  5.418819  3.218316  2.559186   \n",
       "7559  5.241307  3.363400  2.613679  ...  5.395812  3.228224  2.594541   \n",
       "7560  5.249705  3.382453  2.631568  ...  5.415346  3.216777  2.585998   \n",
       "\n",
       "           493       494       495       496       497       498       499  \n",
       "0     1.000000  1.000000  1.000000  1.000000  1.000000  1.000000  1.000000  \n",
       "1     1.001267  0.996483  1.001665  1.008749  0.992832  1.001787  1.011467  \n",
       "2     1.005249  0.991897  1.007394  1.015384  0.997227  1.012686  1.017215  \n",
       "3     1.006109  0.997603  1.011251  1.019950  1.007183  1.003473  1.015726  \n",
       "4     1.018038  0.999256  0.995143  1.018538  1.018216  1.002821  1.019734  \n",
       "...        ...       ...       ...       ...       ...       ...       ...  \n",
       "7556  6.667577  5.022663  3.870396  2.223340  3.377291  4.798472  5.126249  \n",
       "7557  6.646635  5.051646  3.892797  2.247003  3.412465  4.764799  5.138338  \n",
       "7558  6.638160  5.047628  3.858551  2.258919  3.437572  4.811714  5.137683  \n",
       "7559  6.704917  5.102290  3.842641  2.259899  3.440615  4.821785  5.105044  \n",
       "7560  6.706590  5.097809  3.870883  2.248238  3.457509  4.839206  5.071738  \n",
       "\n",
       "[7561 rows x 500 columns]"
      ]
     },
     "execution_count": 32,
     "metadata": {},
     "output_type": "execute_result"
    }
   ],
   "source": [
    "# Running a Monte Carlo simulation to forecast 30 years cumulative returns\n",
    "MC_30years.calc_cumulative_return()"
   ]
  },
  {
   "cell_type": "code",
   "execution_count": 33,
   "metadata": {},
   "outputs": [
    {
     "data": {
      "image/png": "[encoded data removed]",
      "text/plain": [
       "<Figure size 640x480 with 1 Axes>"
      ]
     },
     "metadata": {},
     "output_type": "display_data"
    }
   ],
   "source": [
    "# Plot simulation outcomes\n",
    "line_plot = MC_30years.plot_simulation()\n",
    "\n",
    "line_plot.get_figure().savefig(\"MC_30year_sim_plot.png\", bbox_inches=\"tight\")"
   ]
  },
  {
   "cell_type": "code",
   "execution_count": 34,
   "metadata": {},
   "outputs": [
    {
     "data": {
      "image/png": "[encoded data removed]",
      "text/plain": [
       "<Figure size 640x480 with 1 Axes>"
      ]
     },
     "metadata": {},
     "output_type": "display_data"
    }
   ],
   "source": [
    "# Plot probability distribution and confidence intervals\n",
    "dist_plot = MC_30years.plot_distribution()\n",
    "\n",
    "dist_plot.get_figure().savefig('MC_30year_dist_plot.png',bbox_inches='tight')"
   ]
  },
  {
   "cell_type": "markdown",
   "metadata": {},
   "source": [
    "### Retirement Analysis"
   ]
  },
  {
   "cell_type": "code",
   "execution_count": 35,
   "metadata": {},
   "outputs": [
    {
     "name": "stdout",
     "output_type": "stream",
     "text": [
      "count           500.000000\n",
      "mean              4.779808\n",
      "std               2.538412\n",
      "min               0.940640\n",
      "25%               2.997282\n",
      "50%               4.182348\n",
      "75%               5.885312\n",
      "max              18.336242\n",
      "95% CI Lower      1.614407\n",
      "95% CI Upper     11.366579\n",
      "Name: 7560, dtype: float64\n"
     ]
    }
   ],
   "source": [
    "# Fetch summary statistics from the Monte Carlo simulation results\n",
    "MCS_results = MC_30years.summarize_cumulative_return()\n",
    "\n",
    "# Print summary statistics\n",
    "print(MCS_results) "
   ]
  },
  {
   "cell_type": "markdown",
   "metadata": {},
   "source": [
    "### Calculate the expected portfolio return at the `95%` lower and upper confidence intervals based on a `$20,000` initial investment."
   ]
  },
  {
   "cell_type": "code",
   "execution_count": 36,
   "metadata": {},
   "outputs": [
    {
     "ename": "NameError",
     "evalue": "name 'ci_lower' is not defined",
     "output_type": "error",
     "traceback": [
      "\u001b[0;31m---------------------------------------------------------------------------\u001b[0m",
      "\u001b[0;31mNameError\u001b[0m                                 Traceback (most recent call last)",
      "Cell \u001b[0;32mIn[36], line 10\u001b[0m\n\u001b[1;32m      2\u001b[0m initial_investment \u001b[38;5;241m=\u001b[39m \u001b[38;5;241m20000\u001b[39m\n\u001b[1;32m      4\u001b[0m \u001b[38;5;66;03m# Use the lower and upper `95%` confidence intervals to calculate the range of the possible outcomes of our $20,000\u001b[39;00m\n\u001b[1;32m      5\u001b[0m \u001b[38;5;66;03m# YOUR CODE HERE!\u001b[39;00m\n\u001b[1;32m      6\u001b[0m \n\u001b[1;32m      7\u001b[0m \u001b[38;5;66;03m# Print results\u001b[39;00m\n\u001b[1;32m      8\u001b[0m \u001b[38;5;28mprint\u001b[39m(\u001b[38;5;124mf\u001b[39m\u001b[38;5;124m\"\u001b[39m\u001b[38;5;124mThere is a 95% chance that an initial investment of $\u001b[39m\u001b[38;5;132;01m{\u001b[39;00minitial_investment\u001b[38;5;132;01m}\u001b[39;00m\u001b[38;5;124m in the portfolio\u001b[39m\u001b[38;5;124m\"\u001b[39m\n\u001b[1;32m      9\u001b[0m       \u001b[38;5;124mf\u001b[39m\u001b[38;5;124m\"\u001b[39m\u001b[38;5;124m over the next 30 years will end within in the range of\u001b[39m\u001b[38;5;124m\"\u001b[39m\n\u001b[0;32m---> 10\u001b[0m       \u001b[38;5;124mf\u001b[39m\u001b[38;5;124m\"\u001b[39m\u001b[38;5;124m $\u001b[39m\u001b[38;5;132;01m{\u001b[39;00mci_lower\u001b[38;5;132;01m}\u001b[39;00m\u001b[38;5;124m and $\u001b[39m\u001b[38;5;132;01m{\u001b[39;00mci_upper\u001b[38;5;132;01m}\u001b[39;00m\u001b[38;5;124m\"\u001b[39m)\n",
      "\u001b[0;31mNameError\u001b[0m: name 'ci_lower' is not defined"
     ]
    }
   ],
   "source": [
    "# Set initial investment\n",
    "initial_investment = 20000\n",
    "\n",
    "# Use the lower and upper `95%` confidence intervals to calculate the range of the possible outcomes of our $20,000\n",
    "# YOUR CODE HERE!\n",
    "\n",
    "# Print results\n",
    "print(f\"There is a 95% chance that an initial investment of ${initial_investment} in the portfolio\"\n",
    "      f\" over the next 30 years will end within in the range of\"\n",
    "      f\" ${ci_lower} and ${ci_upper}\")"
   ]
  },
  {
   "cell_type": "markdown",
   "metadata": {},
   "source": [
    "### Calculate the expected portfolio return at the `95%` lower and upper confidence intervals based on a `50%` increase in the initial investment."
   ]
  },
  {
   "cell_type": "code",
   "execution_count": null,
   "metadata": {},
   "outputs": [],
   "source": [
    "# Set initial investment\n",
    "initial_investment = 20000 * 1.5\n",
    "\n",
    "# Use the lower and upper `95%` confidence intervals to calculate the range of the possible outcomes of our $30,000\n",
    "# YOUR CODE HERE!\n",
    "\n",
    "# Print results\n",
    "print(f\"There is a 95% chance that an initial investment of ${initial_investment} in the portfolio\"\n",
    "      f\" over the next 30 years will end within in the range of\"\n",
    "      f\" ${ci_lower} and ${ci_upper}\")"
   ]
  },
  {
   "cell_type": "markdown",
   "metadata": {},
   "source": [
    "## Optional Challenge - Early Retirement\n",
    "\n",
    "\n",
    "### Five Years Retirement Option"
   ]
  },
  {
   "cell_type": "code",
   "execution_count": null,
   "metadata": {},
   "outputs": [],
   "source": [
    "# Configuring a Monte Carlo simulation to forecast 5 years cumulative returns\n",
    "# YOUR CODE HERE!"
   ]
  },
  {
   "cell_type": "code",
   "execution_count": null,
   "metadata": {},
   "outputs": [],
   "source": [
    "# Running a Monte Carlo simulation to forecast 5 years cumulative returns\n",
    "# YOUR CODE HERE!"
   ]
  },
  {
   "cell_type": "code",
   "execution_count": null,
   "metadata": {},
   "outputs": [],
   "source": [
    "# Plot simulation outcomes\n",
    "# YOUR CODE HERE!"
   ]
  },
  {
   "cell_type": "code",
   "execution_count": null,
   "metadata": {},
   "outputs": [],
   "source": [
    "# Plot probability distribution and confidence intervals\n",
    "# YOUR CODE HERE!"
   ]
  },
  {
   "cell_type": "code",
   "execution_count": null,
   "metadata": {},
   "outputs": [],
   "source": [
    "# Fetch summary statistics from the Monte Carlo simulation results\n",
    "# YOUR CODE HERE!\n",
    "\n",
    "# Print summary statistics\n",
    "# YOUR CODE HERE!"
   ]
  },
  {
   "cell_type": "code",
   "execution_count": null,
   "metadata": {},
   "outputs": [],
   "source": [
    "# Set initial investment\n",
    "# YOUR CODE HERE!\n",
    "\n",
    "# Use the lower and upper `95%` confidence intervals to calculate the range of the possible outcomes of our $60,000\n",
    "# YOUR CODE HERE!\n",
    "\n",
    "# Print results\n",
    "print(f\"There is a 95% chance that an initial investment of ${initial_investment} in the portfolio\"\n",
    "      f\" over the next 5 years will end within in the range of\"\n",
    "      f\" ${ci_lower_five} and ${ci_upper_five}\")"
   ]
  },
  {
   "cell_type": "markdown",
   "metadata": {},
   "source": [
    "### Ten Years Retirement Option"
   ]
  },
  {
   "cell_type": "code",
   "execution_count": null,
   "metadata": {},
   "outputs": [],
   "source": [
    "# Configuring a Monte Carlo simulation to forecast 10 years cumulative returns\n",
    "# YOUR CODE HERE!"
   ]
  },
  {
   "cell_type": "code",
   "execution_count": null,
   "metadata": {},
   "outputs": [],
   "source": [
    "# Running a Monte Carlo simulation to forecast 10 years cumulative returns\n",
    "# YOUR CODE HERE!"
   ]
  },
  {
   "cell_type": "code",
   "execution_count": null,
   "metadata": {},
   "outputs": [],
   "source": [
    "# Plot simulation outcomes\n",
    "# YOUR CODE HERE!"
   ]
  },
  {
   "cell_type": "code",
   "execution_count": null,
   "metadata": {},
   "outputs": [],
   "source": [
    "# Plot probability distribution and confidence intervals\n",
    "# YOUR CODE HERE!"
   ]
  },
  {
   "cell_type": "code",
   "execution_count": null,
   "metadata": {},
   "outputs": [],
   "source": [
    "# Fetch summary statistics from the Monte Carlo simulation results\n",
    "# YOUR CODE HERE!\n",
    "\n",
    "# Print summary statistics\n",
    "# YOUR CODE HERE!"
   ]
  },
  {
   "cell_type": "code",
   "execution_count": null,
   "metadata": {},
   "outputs": [],
   "source": [
    "# Set initial investment\n",
    "# YOUR CODE HERE!\n",
    "\n",
    "# Use the lower and upper `95%` confidence intervals to calculate the range of the possible outcomes of our $60,000\n",
    "# YOUR CODE HERE!\n",
    "\n",
    "# Print results\n",
    "print(f\"There is a 95% chance that an initial investment of ${initial_investment} in the portfolio\"\n",
    "      f\" over the next 10 years will end within in the range of\"\n",
    "      f\" ${ci_lower_ten} and ${ci_upper_ten}\")"
   ]
  },
  {
   "cell_type": "code",
   "execution_count": null,
   "metadata": {},
   "outputs": [],
   "source": []
  }
 ],
 "metadata": {
  "kernelspec": {
   "display_name": "Python 3 (ipykernel)",
   "language": "python",
   "name": "python3"
  },
  "language_info": {
   "codemirror_mode": {
    "name": "ipython",
    "version": 3
   },
   "file_extension": ".py",
   "mimetype": "text/x-python",
   "name": "python",
   "nbconvert_exporter": "python",
   "pygments_lexer": "ipython3",
   "version": "3.11.5"
  },
  "nteract": {
   "version": "0.28.0"
  }
 },
 "nbformat": 4,
 "nbformat_minor": 4
}
